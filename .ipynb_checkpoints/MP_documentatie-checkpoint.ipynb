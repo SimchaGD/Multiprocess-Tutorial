{
 "cells": [
  {
   "cell_type": "markdown",
   "metadata": {},
   "source": [
    "# Multiprocessing in Python\n",
    "## Mapping: Gebruik al je processor cores voor snellere code!\n",
    "\n",
    "In tijden waarin meer berekening meer geld betekent is het van essentieel belang dat de code die je uitvoerd zo optimaal mogelijk is! Het bekende gezegde: tijd is geld, geldt in deze tijd ook. Met gebruik van mapping is het mogelijk om taken te verdelen over alle processor cores. Moet je voorstellen dat je één taak hebt zoals tuinieren met je nieuwe tuinbroek. In totaal heb je 4 tuinieren, zou je dan 1 tuinier willen gebruiken terwijl de andere koffie kunnen leuten of zou je alle tuinieren aan het werk willen zetten zodat de klus sneller geklaard is. <br>\n",
    "Hetzelfde geld voor je cores. Als je er 4 beschikbaar hebt, dan wil je er toch ook 4 gebruiken (of misschien 3 als je nog meer processen aan het uitvoeren bent). Dit is het doel van mapping. <br>\n",
    "<br>\n",
    "    Stel we hebben de volgende simpele taak. We willen alle getallen van 0 tot 100 kwadrateren en bij elkaar optellen. Dit willen we 100000 keer doen. Daarvoor krijg je de volgende code."
   ]
  },
  {
   "cell_type": "code",
   "execution_count": 1,
   "metadata": {},
   "outputs": [
    {
     "name": "stdout",
     "output_type": "stream",
     "text": [
      "Serial processing took: 0.831s\n"
     ]
    }
   ],
   "source": [
    "from time import time\n",
    "def f(n):\n",
    "    s = 0\n",
    "    for x in range(100):\n",
    "        s += x*x\n",
    "    return s\n",
    "\n",
    "n = 100000\n",
    "t1 = time()\n",
    "results = []\n",
    "for i in range(n):\n",
    "    results.append(f(i))\n",
    "print(\"Serial processing took: {:.3f}s\".format(time()-t1))"
   ]
  },
  {
   "cell_type": "markdown",
   "metadata": {},
   "source": [
    "Dit duurt ongeveer 3 seconden om alle berekeningen achter elkaar te doen. Als we dit paralel willen doen, dan krijgen we de volgende code:"
   ]
  },
  {
   "cell_type": "code",
   "execution_count": 2,
   "metadata": {},
   "outputs": [
    {
     "name": "stdout",
     "output_type": "stream",
     "text": [
      "Paralel processing took: 0.865s\n"
     ]
    }
   ],
   "source": [
    "import multiprocessing as mp\n",
    "from f import f # in jupyter moet de functie in een .py bestand staan. Dit hoeft niet in spyder of visualstudio\n",
    "\n",
    "if __name__ == \"__main__\":\n",
    "    t2 = time()\n",
    "    # maak Pool class aan\n",
    "    p = mp.Pool(4) #input = aantal processors\n",
    "    results2 = p.map(f, range(n)) # input = (functie, iterator)\n",
    "    p.close()\n",
    "    p.join()\n",
    "    print(\"Paralel processing took: {:.3f}s\".format(time()-t2))"
   ]
  },
  {
   "cell_type": "markdown",
   "metadata": {},
   "source": [
    "Er is wel wat verschil te zien, maar die is niet super groot. Dit komt omdat de Pool library wat \"opstarttijd\" nodig heeft. Bij meer berekeningen zal het verschil groter worden!"
   ]
  },
  {
   "cell_type": "code",
   "execution_count": 3,
   "metadata": {},
   "outputs": [
    {
     "name": "stdout",
     "output_type": "stream",
     "text": [
      "Paralel processing took: 5.622s\n",
      "Serial processing took: 8.088s\n"
     ]
    }
   ],
   "source": [
    "n = 1000000\n",
    "\n",
    "if __name__ == \"__main__\":\n",
    "    t2 = time()\n",
    "    # maak Pool class aan\n",
    "    p = mp.Pool(4) #input = aantal processors\n",
    "    results2 = p.map(f, range(n)) # input = (functie, iterator)\n",
    "    p.close()\n",
    "    p.join()\n",
    "    print(\"Paralel processing took: {:.3f}s\".format(time()-t2))\n",
    "    \n",
    "    t1 = time()\n",
    "    results = []\n",
    "    for i in range(n):\n",
    "        results.append(f(i))\n",
    "    print(\"Serial processing took: {:.3f}s\".format(time()-t1))"
   ]
  },
  {
   "cell_type": "code",
   "execution_count": null,
   "metadata": {},
   "outputs": [],
   "source": []
  }
 ],
 "metadata": {
  "kernelspec": {
   "display_name": "Python 3",
   "language": "python",
   "name": "python3"
  },
  "language_info": {
   "codemirror_mode": {
    "name": "ipython",
    "version": 3
   },
   "file_extension": ".py",
   "mimetype": "text/x-python",
   "name": "python",
   "nbconvert_exporter": "python",
   "pygments_lexer": "ipython3",
   "version": "3.7.3"
  }
 },
 "nbformat": 4,
 "nbformat_minor": 2
}
